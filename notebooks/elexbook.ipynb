{
 "cells": [
  {
   "cell_type": "markdown",
   "id": "5d5f056c",
   "metadata": {},
   "source": [
    "# Ce notebook a été créé pour le développepement de la classe elexbook de datalexir\n",
    "- pour la classe elexdas (elexir pandas) voir le notebook elexdas.ipynb\n",
    "- pour la classe elexpark (elexir spark) voir le notebook elexpark.ipynb"
   ]
  },
  {
   "cell_type": "code",
   "execution_count": 2,
   "id": "18e81848",
   "metadata": {},
   "outputs": [
    {
     "name": "stdout",
     "output_type": "stream",
     "text": [
      "Fichier 'livres_fictifs.csv' généré avec succès.\n"
     ]
    }
   ],
   "source": [
    "# Génération d'un fichier CSV contenant une centaine d'entrées sur des livres fictifs\n",
    "import csv\n",
    "import random\n",
    "\n",
    "# Données fictives\n",
    "noms_auteurs = [\"Jean Dupont\", \"Marie Curie\", \"Albert Camus\", \"Victor Hugo\", \"Émile Zola\"]\n",
    "genres = [\"Roman\", \"Science-fiction\", \"Fantastique\", \"Histoire\", \"Biographie\"]\n",
    "\n",
    "def generer_livres(nombre):\n",
    "    livres = []\n",
    "    for i in range(nombre):\n",
    "        titre = f\"Livre {i+1}\"\n",
    "        auteur = random.choice(noms_auteurs)\n",
    "        annee = random.randint(1900, 2025)\n",
    "        genre = random.choice(genres)\n",
    "        livres.append([titre, auteur, annee, genre])\n",
    "    return livres\n",
    "\n",
    "# Génération des données\n",
    "livres = generer_livres(100)\n",
    "\n",
    "# Écriture dans un fichier CSV\n",
    "nom_fichier = \"livres_fictifs.csv\"\n",
    "with open(nom_fichier, mode=\"w\", newline=\"\", encoding=\"utf-8\") as fichier:\n",
    "    writer = csv.writer(fichier)\n",
    "    writer.writerow([\"Titre\", \"Auteur\", \"Année\", \"Genre\"])\n",
    "    writer.writerows(livres)\n",
    "\n",
    "print(f\"Fichier '{nom_fichier}' généré avec succès.\")"
   ]
  },
  {
   "cell_type": "code",
   "execution_count": 1,
   "id": "d86f592a",
   "metadata": {},
   "outputs": [
    {
     "data": {
      "text/html": [
       "<div>\n",
       "<style scoped>\n",
       "    .dataframe tbody tr th:only-of-type {\n",
       "        vertical-align: middle;\n",
       "    }\n",
       "\n",
       "    .dataframe tbody tr th {\n",
       "        vertical-align: top;\n",
       "    }\n",
       "\n",
       "    .dataframe thead th {\n",
       "        text-align: right;\n",
       "    }\n",
       "</style>\n",
       "<table border=\"1\" class=\"dataframe\">\n",
       "  <thead>\n",
       "    <tr style=\"text-align: right;\">\n",
       "      <th></th>\n",
       "      <th>Titre</th>\n",
       "      <th>Auteur</th>\n",
       "      <th>Année</th>\n",
       "      <th>Genre</th>\n",
       "    </tr>\n",
       "  </thead>\n",
       "  <tbody>\n",
       "    <tr>\n",
       "      <th>6</th>\n",
       "      <td>Livre 7</td>\n",
       "      <td>Victor Hugo</td>\n",
       "      <td>2014</td>\n",
       "      <td>Science-fiction</td>\n",
       "    </tr>\n",
       "    <tr>\n",
       "      <th>50</th>\n",
       "      <td>Livre 51</td>\n",
       "      <td>Marie Curie</td>\n",
       "      <td>1966</td>\n",
       "      <td>Biographie</td>\n",
       "    </tr>\n",
       "    <tr>\n",
       "      <th>73</th>\n",
       "      <td>Livre 74</td>\n",
       "      <td>Victor Hugo</td>\n",
       "      <td>2011</td>\n",
       "      <td>Histoire</td>\n",
       "    </tr>\n",
       "    <tr>\n",
       "      <th>2</th>\n",
       "      <td>Livre 3</td>\n",
       "      <td>Émile Zola</td>\n",
       "      <td>1910</td>\n",
       "      <td>Biographie</td>\n",
       "    </tr>\n",
       "    <tr>\n",
       "      <th>67</th>\n",
       "      <td>Livre 68</td>\n",
       "      <td>Émile Zola</td>\n",
       "      <td>1929</td>\n",
       "      <td>Biographie</td>\n",
       "    </tr>\n",
       "  </tbody>\n",
       "</table>\n",
       "</div>"
      ],
      "text/plain": [
       "<datalexir.elexbook.elexbook.Elexbook at 0x22a7ec25d00>"
      ]
     },
     "execution_count": 1,
     "metadata": {},
     "output_type": "execute_result"
    }
   ],
   "source": [
    "from datalexir.elexbook import elexbook\n",
    "import pandas as pd\n",
    "\n",
    "df = pd.read_csv(\"livres_fictifs.csv\")\n",
    "\n",
    "eb = elexbook.Elexbook(df)\n",
    "\n",
    "eb.head()"
   ]
  }
 ],
 "metadata": {
  "kernelspec": {
   "display_name": "venv",
   "language": "python",
   "name": "python3"
  },
  "language_info": {
   "codemirror_mode": {
    "name": "ipython",
    "version": 3
   },
   "file_extension": ".py",
   "mimetype": "text/x-python",
   "name": "python",
   "nbconvert_exporter": "python",
   "pygments_lexer": "ipython3",
   "version": "3.12.0"
  }
 },
 "nbformat": 4,
 "nbformat_minor": 5
}
