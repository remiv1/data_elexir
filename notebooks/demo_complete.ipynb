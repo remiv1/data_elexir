{
 "cells": [
  {
   "cell_type": "markdown",
   "id": "095b18df",
   "metadata": {},
   "source": [
    "# 🔮 DataLexir - Démonstration Complète\n",
    "\n",
    "Ce notebook démontre l'utilisation complète de DataLexir pour l'exploration de données et la génération de pipelines.\n",
    "\n",
    "## 📋 Sommaire\n",
    "\n",
    "1. [Installation et Import](#installation)\n",
    "2. [Préparation des Données](#données)\n",
    "3. [Exploration avec Elexbook](#exploration)\n",
    "4. [Génération du Pipeline](#pipeline)\n",
    "5. [Application avec Elexdas (Pandas)](#elexdas)\n",
    "6. [Application avec Elexpark (Spark)](#elexpark)\n",
    "7. [Conclusion](#conclusion)"
   ]
  },
  {
   "cell_type": "markdown",
   "id": "7fc2e6da",
   "metadata": {},
   "source": [
    "<a id=\"installation\"></a>\n",
    "## 1. 📦 Installation et Import\n",
    "\n",
    "Commençons par installer et importer les bibliothèques nécessaires."
   ]
  },
  {
   "cell_type": "code",
   "execution_count": null,
   "id": "eb7459bf",
   "metadata": {},
   "outputs": [],
   "source": [
    "# Installation (si nécessaire)\n",
    "# !pip install datalexir\n",
    "\n",
    "# Imports\n",
    "import pandas as pd\n",
    "import numpy as np\n",
    "import matplotlib.pyplot as plt\n",
    "from datetime import datetime, timedelta\n",
    "\n",
    "# Import DataLexir\n",
    "from datalexir.elexbook import Elexbook\n",
    "# from datalexir.elexdas import Elexdas\n",
    "# from datalexir.elexpark import Elexpark\n",
    "\n",
    "print(\"✅ Imports réussis !\")"
   ]
  },
  {
   "cell_type": "markdown",
   "id": "0aa81eeb",
   "metadata": {},
   "source": [
    "<a id=\"données\"></a>\n",
    "## 2. 📊 Préparation des Données\n",
    "\n",
    "Créons un dataset de démonstration simulant des données de ventes e-commerce."
   ]
  },
  {
   "cell_type": "code",
   "execution_count": null,
   "id": "6a819c76",
   "metadata": {},
   "outputs": [],
   "source": [
    "# Génération d'un dataset de démonstration\n",
    "np.random.seed(42)\n",
    "n_records = 100000  # 100k enregistrements pour simuler un gros dataset\n",
    "\n",
    "# Génération des données\n",
    "data = {\n",
    "    'transaction_id': [f'T{i:06d}' for i in range(1, n_records + 1)],\n",
    "    'customer_id': [f'C{np.random.randint(1, 10000):05d}' for _ in range(n_records)],\n",
    "    'product_category': np.random.choice(['Electronics', 'Clothing', 'Books', 'Home', 'Sports', None], n_records, p=[0.25, 0.2, 0.15, 0.2, 0.15, 0.05]),\n",
    "    'amount': np.random.lognormal(3, 1, n_records),\n",
    "    'quantity': np.random.randint(1, 10, n_records),\n",
    "    'date': [datetime(2024, 1, 1) + timedelta(days=np.random.randint(0, 365)) for _ in range(n_records)],\n",
    "    'payment_method': np.random.choice(['Credit Card', 'PayPal', 'Bank Transfer', 'Cash'], n_records, p=[0.5, 0.3, 0.15, 0.05]),\n",
    "    'discount_applied': np.random.choice([True, False], n_records, p=[0.3, 0.7]),\n",
    "    'customer_rating': np.random.choice([1, 2, 3, 4, 5, None], n_records, p=[0.05, 0.1, 0.15, 0.35, 0.3, 0.05])\n",
    "}\n",
    "\n",
    "# Ajout de quelques valeurs manquantes\n",
    "missing_indices = np.random.choice(n_records, size=int(n_records * 0.02), replace=False)\n",
    "for idx in missing_indices:\n",
    "    data['amount'][idx] = None\n",
    "\n",
    "# Création du DataFrame\n",
    "sales_df = pd.DataFrame(data)\n",
    "\n",
    "print(f\"📊 Dataset généré : {len(sales_df):,} lignes x {len(sales_df.columns)} colonnes\")\n",
    "print(f\"💾 Taille en mémoire : {sales_df.memory_usage(deep=True).sum() / 1024**2:.1f} MB\")\n",
    "sales_df.head()"
   ]
  },
  {
   "cell_type": "code",
   "execution_count": null,
   "id": "fd1f52be",
   "metadata": {},
   "outputs": [],
   "source": [
    "# Aperçu du dataset\n",
    "print(\"📈 Informations sur le dataset :\")\n",
    "print(sales_df.info())\n",
    "print(\"\\n📊 Statistiques descriptives :\")\n",
    "sales_df.describe()"
   ]
  },
  {
   "cell_type": "markdown",
   "id": "525400fd",
   "metadata": {},
   "source": [
    "<a id=\"exploration\"></a>\n",
    "## 3. 🔍 Exploration avec Elexbook\n",
    "\n",
    "Maintenant, utilisons Elexbook pour explorer ce dataset sur un échantillon plus petit."
   ]
  },
  {
   "cell_type": "code",
   "execution_count": null,
   "id": "2de6147a",
   "metadata": {},
   "outputs": [],
   "source": [
    "# Création d'un Elexbook avec 5% du dataset\n",
    "book = Elexbook(sales_df, sample=0.05)\n",
    "\n",
    "print(f\"📖 Elexbook créé !\")\n",
    "print(f\"📊 Dataset original : {len(book.df):,} lignes\")\n",
    "print(f\"🎯 Échantillon : {len(book.sample):,} lignes ({len(book.sample)/len(book.df)*100:.1f}%)\")\n",
    "print(f\"📝 Historique : {len(book.history)} opérations\")"
   ]
  },
  {
   "cell_type": "code",
   "execution_count": null,
   "id": "ec3a5295",
   "metadata": {},
   "outputs": [],
   "source": [
    "# Exploration de base\n",
    "print(\"🔍 Aperçu de l'échantillon :\")\n",
    "book.head()"
   ]
  },
  {
   "cell_type": "code",
   "execution_count": null,
   "id": "ddb122a7",
   "metadata": {},
   "outputs": [],
   "source": [
    "# Vérification des valeurs manquantes\n",
    "print(\"❓ Valeurs manquantes dans l'échantillon :\")\n",
    "book.isnull().sum()"
   ]
  },
  {
   "cell_type": "code",
   "execution_count": null,
   "id": "34e8f958",
   "metadata": {},
   "outputs": [],
   "source": [
    "# Nettoyage des données\n",
    "print(\"🧹 Nettoyage des données...\")\n",
    "\n",
    "# Suppression des lignes avec des montants manquants\n",
    "book.dropna(subset=['amount'])\n",
    "print(f\"✅ Suppression des montants manquants : {len(book.sample)} lignes restantes\")\n",
    "\n",
    "# Remplissage des catégories manquantes\n",
    "book.fillna({'product_category': 'Unknown'})\n",
    "print(f\"✅ Remplissage des catégories manquantes\")\n",
    "\n",
    "# Remplissage des notes manquantes avec la médiane\n",
    "median_rating = book.sample['customer_rating'].median()\n",
    "book.fillna({'customer_rating': median_rating})\n",
    "print(f\"✅ Remplissage des notes manquantes avec la médiane ({median_rating})\")"
   ]
  },
  {
   "cell_type": "code",
   "execution_count": null,
   "id": "c67e34b0",
   "metadata": {},
   "outputs": [],
   "source": [
    "# Conversions de types\n",
    "print(\"🔄 Conversion des types...\")\n",
    "\n",
    "# Conversion des types\n",
    "book.astype({\n",
    "    'amount': 'float64',\n",
    "    'customer_rating': 'int64',\n",
    "    'discount_applied': 'bool'\n",
    "})\n",
    "\n",
    "print(\"✅ Types convertis\")\n",
    "print(\"\\n📊 Types après conversion :\")\n",
    "print(book.sample.dtypes)"
   ]
  },
  {
   "cell_type": "code",
   "execution_count": null,
   "id": "d630c3cf",
   "metadata": {},
   "outputs": [],
   "source": [
    "# Analyse exploratoire\n",
    "print(\"📈 Analyse par catégorie de produit :\")\n",
    "category_analysis = book.groupby('product_category')['amount'].agg(['count', 'mean', 'sum']).round(2)\n",
    "print(category_analysis)\n",
    "\n",
    "print(\"\\n💳 Analyse par méthode de paiement :\")\n",
    "payment_analysis = book.groupby('payment_method')['amount'].agg(['count', 'mean']).round(2)\n",
    "print(payment_analysis)"
   ]
  },
  {
   "cell_type": "code",
   "execution_count": null,
   "id": "45353380",
   "metadata": {},
   "outputs": [],
   "source": [
    "# Visualisation simple\n",
    "plt.figure(figsize=(12, 6))\n",
    "\n",
    "plt.subplot(1, 2, 1)\n",
    "book.sample['product_category'].value_counts().plot(kind='bar')\n",
    "plt.title('Distribution des Catégories de Produits')\n",
    "plt.xticks(rotation=45)\n",
    "\n",
    "plt.subplot(1, 2, 2)\n",
    "book.sample['amount'].hist(bins=30)\n",
    "plt.title('Distribution des Montants')\n",
    "plt.xlabel('Montant')\n",
    "plt.ylabel('Fréquence')\n",
    "\n",
    "plt.tight_layout()\n",
    "plt.show()"
   ]
  },
  {
   "cell_type": "markdown",
   "id": "143c567e",
   "metadata": {},
   "source": [
    "<a id=\"pipeline\"></a>\n",
    "## 4. ⚙️ Génération du Pipeline\n",
    "\n",
    "Maintenant, générons le pipeline à partir de notre exploration."
   ]
  },
  {
   "cell_type": "code",
   "execution_count": null,
   "id": "db1a0c48",
   "metadata": {},
   "outputs": [],
   "source": [
    "# Génération du pipeline\n",
    "pipeline = book.concatbook()\n",
    "\n",
    "print(\"🔧 Pipeline généré !\")\n",
    "print(f\"📝 Nombre d'opérations : {len(book.history)}\")\n",
    "print(\"\\n📋 Historique des opérations :\")\n",
    "for i, operation in enumerate(book.history, 1):\n",
    "    print(f\"{i}. {operation['operation']} - {operation['arguments']}\")\n",
    "\n",
    "print(\"\\n⚙️ Pipeline structure :\")\n",
    "print(pipeline)"
   ]
  },
  {
   "cell_type": "markdown",
   "id": "4f7ba497",
   "metadata": {},
   "source": [
    "<a id=\"elexdas\"></a>\n",
    "## 5. 🐼 Application avec Elexdas (Pandas)\n",
    "\n",
    "Appliquons maintenant le pipeline sur le dataset complet avec Elexdas."
   ]
  },
  {
   "cell_type": "code",
   "execution_count": null,
   "id": "8b0d953f",
   "metadata": {},
   "outputs": [],
   "source": [
    "# Note: Elexdas n'est pas encore implémenté, voici une simulation\n",
    "print(\"🐼 Simulation d'Elexdas...\")\n",
    "print(\"\\n🔄 Application du pipeline sur le dataset complet...\")\n",
    "\n",
    "# Simulation de l'application du pipeline\n",
    "processed_df = sales_df.copy()\n",
    "\n",
    "# Application manuelle des opérations du pipeline\n",
    "print(\"1. Suppression des montants manquants...\")\n",
    "processed_df = processed_df.dropna(subset=['amount'])\n",
    "print(f\"   ✅ {len(processed_df):,} lignes restantes\")\n",
    "\n",
    "print(\"2. Remplissage des catégories manquantes...\")\n",
    "processed_df['product_category'] = processed_df['product_category'].fillna('Unknown')\n",
    "print(\"   ✅ Catégories remplies\")\n",
    "\n",
    "print(\"3. Remplissage des notes manquantes...\")\n",
    "median_rating_full = processed_df['customer_rating'].median()\n",
    "processed_df['customer_rating'] = processed_df['customer_rating'].fillna(median_rating_full)\n",
    "print(f\"   ✅ Notes remplies avec la médiane ({median_rating_full})\")\n",
    "\n",
    "print(\"4. Conversion des types...\")\n",
    "processed_df = processed_df.astype({\n",
    "    'amount': 'float64',\n",
    "    'customer_rating': 'int64',\n",
    "    'discount_applied': 'bool'\n",
    "})\n",
    "print(\"   ✅ Types convertis\")\n",
    "\n",
    "print(f\"\\n🎯 Dataset final : {len(processed_df):,} lignes\")\n",
    "print(f\"💾 Taille en mémoire : {processed_df.memory_usage(deep=True).sum() / 1024**2:.1f} MB\")"
   ]
  },
  {
   "cell_type": "code",
   "execution_count": null,
   "id": "7d7f9303",
   "metadata": {},
   "outputs": [],
   "source": [
    "# Comparaison avant/après\n",
    "print(\"📊 Comparaison avant/après traitement :\")\n",
    "print(\"\\nAvant :\")\n",
    "print(sales_df.info())\n",
    "print(\"\\nAprès :\")\n",
    "print(processed_df.info())"
   ]
  },
  {
   "cell_type": "markdown",
   "id": "82baff76",
   "metadata": {},
   "source": [
    "<a id=\"elexpark\"></a>\n",
    "## 6. ⚡ Application avec Elexpark (Spark)\n",
    "\n",
    "Pour les très gros volumes, nous pourrions utiliser Elexpark avec Spark."
   ]
  },
  {
   "cell_type": "code",
   "execution_count": null,
   "id": "c3978348",
   "metadata": {},
   "outputs": [],
   "source": [
    "# Note: Elexpark n'est pas encore implémenté, voici une simulation\n",
    "print(\"⚡ Simulation d'Elexpark avec Spark...\")\n",
    "print(\"\\n💡 Pour des datasets de plusieurs millions de lignes, Elexpark permettrait :\")\n",
    "print(\"   • Distribution automatique des calculs\")\n",
    "print(\"   • Optimisation des requêtes\")\n",
    "print(\"   • Gestion de la mémoire pour les gros volumes\")\n",
    "print(\"   • Traitement parallèle sur plusieurs machines\")\n",
    "\n",
    "# Exemple de code Elexpark (quand il sera implémenté)\n",
    "spark_code = '''\n",
    "# Code Elexpark futur\n",
    "from pyspark.sql import SparkSession\n",
    "from datalexir.elexpark import Elexpark\n",
    "\n",
    "# Initialisation Spark\n",
    "spark = SparkSession.builder.appName(\"DataLexir\").getOrCreate()\n",
    "spark_df = spark.createDataFrame(sales_df)\n",
    "\n",
    "# Application du pipeline\n",
    "elexpark = Elexpark(spark_df)\n",
    "result_spark = elexpark.pipeline(pipeline)\n",
    "\n",
    "# Collecte des résultats\n",
    "final_df = result_spark.toPandas()\n",
    "'''\n",
    "\n",
    "print(\"\\n📝 Exemple de code Elexpark :\")\n",
    "print(spark_code)"
   ]
  },
  {
   "cell_type": "markdown",
   "id": "39b8fdd1",
   "metadata": {},
   "source": [
    "<a id=\"conclusion\"></a>\n",
    "## 7. 🎯 Conclusion\n",
    "\n",
    "Cette démonstration montre le workflow complet de DataLexir :"
   ]
  },
  {
   "cell_type": "code",
   "execution_count": null,
   "id": "1d872282",
   "metadata": {},
   "outputs": [],
   "source": [
    "print(\"🎯 Résumé du workflow DataLexir :\")\n",
    "print(\"\\n1. 📊 Dataset original : 100,000 lignes\")\n",
    "print(f\"2. 🔍 Exploration sur échantillon : {len(book.sample):,} lignes (5%)\")\n",
    "print(f\"3. 🧹 Nettoyage interactif : {len(book.history)} opérations\")\n",
    "print(f\"4. ⚙️ Pipeline généré automatiquement\")\n",
    "print(f\"5. 🐼 Application avec Pandas : {len(processed_df):,} lignes traitées\")\n",
    "print(f\"6. ⚡ Possibilité d'utiliser Spark pour de plus gros volumes\")\n",
    "\n",
    "print(\"\\n✨ Avantages de DataLexir :\")\n",
    "print(\"   • Exploration rapide sur échantillons\")\n",
    "print(\"   • Interface interactive dans Jupyter\")\n",
    "print(\"   • Génération automatique de pipelines\")\n",
    "print(\"   • Reproductibilité garantie\")\n",
    "print(\"   • Scalabilité avec Pandas et Spark\")\n",
    "print(\"   • Traçabilité complète des transformations\")\n",
    "\n",
    "print(\"\\n🚀 DataLexir : De l'exploration à la production en quelques lignes !\")"
   ]
  },
  {
   "cell_type": "markdown",
   "id": "f1f39fc8",
   "metadata": {},
   "source": [
    "---\n",
    "\n",
    "## 📚 Ressources supplémentaires\n",
    "\n",
    "- [Documentation DataLexir](https://github.com/remiv1/data_elexir)\n",
    "- [Guide de contribution](https://github.com/remiv1/data_elexir/blob/main/CONTRIBUTING.md)\n",
    "- [Exemples supplémentaires](https://github.com/remiv1/data_elexir/tree/main/notebooks)\n",
    "\n",
    "**N'hésitez pas à ⭐ le projet sur GitHub si DataLexir vous aide !**"
   ]
  }
 ],
 "metadata": {
  "language_info": {
   "name": "python"
  }
 },
 "nbformat": 4,
 "nbformat_minor": 5
}
